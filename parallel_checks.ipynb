{
 "cells": [
  {
   "cell_type": "code",
   "execution_count": 1,
   "metadata": {},
   "outputs": [],
   "source": [
    "import tensorflow as tf\n",
    "import numpy as np\n",
    "import pandas as pd\n",
    "from timeit import default_timer as timer\n",
    "from joblib import Parallel, delayed\n",
    "import scipy\n",
    "from sklearn import metrics\n",
    "import multiprocessing\n",
    "from multiprocessing import set_start_method, Pool, Process, managers\n",
    "import threading, queue"
   ]
  },
  {
   "cell_type": "code",
   "execution_count": 76,
   "metadata": {},
   "outputs": [],
   "source": [
    "def fac_tuple(tup_1, tup_2):\n",
    "    result = np.math.factorial(tup_1) + np.math.factorial(tup_2)\n",
    "    return result"
   ]
  },
  {
   "cell_type": "code",
   "execution_count": 414,
   "metadata": {},
   "outputs": [],
   "source": [
    "lenght = 100\n",
    "num_iteration = 10"
   ]
  },
  {
   "cell_type": "code",
   "execution_count": 400,
   "metadata": {},
   "outputs": [],
   "source": [
    "list_one = [5] * lenght\n",
    "list_two = [10] * lenght\n",
    "list_tuples = list(zip(list_one, list_two))"
   ]
  },
  {
   "cell_type": "markdown",
   "metadata": {},
   "source": [
    "# pool"
   ]
  },
  {
   "cell_type": "code",
   "execution_count": 401,
   "metadata": {},
   "outputs": [
    {
     "name": "stdout",
     "output_type": "stream",
     "text": [
      "The average time elapsed is 0.04886552159969142\n"
     ]
    },
    {
     "name": "stderr",
     "output_type": "stream",
     "text": [
      "Process ForkPoolWorker-546:\n",
      "Process ForkPoolWorker-547:\n",
      "Process ForkPoolWorker-545:\n",
      "Traceback (most recent call last):\n",
      "Traceback (most recent call last):\n",
      "Traceback (most recent call last):\n",
      "  File \"/home/thomas/anaconda3/lib/python3.7/multiprocessing/process.py\", line 297, in _bootstrap\n",
      "    self.run()\n",
      "  File \"/home/thomas/anaconda3/lib/python3.7/multiprocessing/process.py\", line 297, in _bootstrap\n",
      "    self.run()\n",
      "  File \"/home/thomas/anaconda3/lib/python3.7/multiprocessing/process.py\", line 297, in _bootstrap\n",
      "    self.run()\n",
      "Process ForkPoolWorker-544:\n",
      "  File \"/home/thomas/anaconda3/lib/python3.7/multiprocessing/process.py\", line 99, in run\n",
      "    self._target(*self._args, **self._kwargs)\n",
      "  File \"/home/thomas/anaconda3/lib/python3.7/multiprocessing/process.py\", line 99, in run\n",
      "    self._target(*self._args, **self._kwargs)\n",
      "  File \"/home/thomas/anaconda3/lib/python3.7/multiprocessing/process.py\", line 99, in run\n",
      "    self._target(*self._args, **self._kwargs)\n",
      "Traceback (most recent call last):\n",
      "  File \"/home/thomas/anaconda3/lib/python3.7/multiprocessing/pool.py\", line 110, in worker\n",
      "    task = get()\n",
      "  File \"/home/thomas/anaconda3/lib/python3.7/multiprocessing/pool.py\", line 110, in worker\n",
      "    task = get()\n",
      "  File \"/home/thomas/anaconda3/lib/python3.7/multiprocessing/pool.py\", line 110, in worker\n",
      "    task = get()\n",
      "  File \"/home/thomas/anaconda3/lib/python3.7/multiprocessing/process.py\", line 297, in _bootstrap\n",
      "    self.run()\n",
      "  File \"/home/thomas/anaconda3/lib/python3.7/multiprocessing/queues.py\", line 352, in get\n",
      "    res = self._reader.recv_bytes()\n",
      "  File \"/home/thomas/anaconda3/lib/python3.7/multiprocessing/queues.py\", line 351, in get\n",
      "    with self._rlock:\n",
      "  File \"/home/thomas/anaconda3/lib/python3.7/multiprocessing/queues.py\", line 351, in get\n",
      "    with self._rlock:\n",
      "  File \"/home/thomas/anaconda3/lib/python3.7/multiprocessing/process.py\", line 99, in run\n",
      "    self._target(*self._args, **self._kwargs)\n",
      "  File \"/home/thomas/anaconda3/lib/python3.7/multiprocessing/connection.py\", line 216, in recv_bytes\n",
      "    buf = self._recv_bytes(maxlength)\n",
      "  File \"/home/thomas/anaconda3/lib/python3.7/multiprocessing/synchronize.py\", line 95, in __enter__\n",
      "    return self._semlock.__enter__()\n",
      "  File \"/home/thomas/anaconda3/lib/python3.7/multiprocessing/synchronize.py\", line 95, in __enter__\n",
      "    return self._semlock.__enter__()\n",
      "  File \"/home/thomas/anaconda3/lib/python3.7/multiprocessing/pool.py\", line 110, in worker\n",
      "    task = get()\n",
      "  File \"/home/thomas/anaconda3/lib/python3.7/multiprocessing/connection.py\", line 407, in _recv_bytes\n",
      "    buf = self._recv(4)\n",
      "KeyboardInterrupt\n",
      "KeyboardInterrupt\n",
      "  File \"/home/thomas/anaconda3/lib/python3.7/multiprocessing/queues.py\", line 351, in get\n",
      "    with self._rlock:\n",
      "  File \"/home/thomas/anaconda3/lib/python3.7/multiprocessing/connection.py\", line 379, in _recv\n",
      "    chunk = read(handle, remaining)\n",
      "  File \"/home/thomas/anaconda3/lib/python3.7/multiprocessing/synchronize.py\", line 95, in __enter__\n",
      "    return self._semlock.__enter__()\n",
      "KeyboardInterrupt\n",
      "KeyboardInterrupt\n"
     ]
    }
   ],
   "source": [
    "pool = Pool(4)\n",
    "time_list = []\n",
    "\n",
    "for _ in range(num_iteration):\n",
    "    start = timer()\n",
    "    individuals_fitness = pool.starmap(fac_tuple, list_tuples, chunksize=1000)\n",
    "    end = timer()\n",
    "    time_list.append(end-start)\n",
    "    \n",
    "print(\"The average time elapsed is \" + str(np.mean(time_list)))     "
   ]
  },
  {
   "cell_type": "markdown",
   "metadata": {},
   "source": [
    "# sequential"
   ]
  },
  {
   "cell_type": "code",
   "execution_count": 402,
   "metadata": {},
   "outputs": [
    {
     "name": "stdout",
     "output_type": "stream",
     "text": [
      "The average time elapsed is 0.0669143039995106\n"
     ]
    }
   ],
   "source": [
    "time_list = []\n",
    "\n",
    "for _ in range(num_iteration):\n",
    "\n",
    "    individuals_fitness = []\n",
    "    start = timer()\n",
    "    for index in range(lenght):\n",
    "        result = fac_tuple(list_one[index], list_two[index])\n",
    "        individuals_fitness.append(result)\n",
    "        \n",
    "    end = timer()\n",
    "    time_list.append(end-start)\n",
    "\n",
    "print(\"The average time elapsed is \" + str(np.mean(end-start)))  "
   ]
  },
  {
   "cell_type": "markdown",
   "metadata": {},
   "source": [
    "# multiprocess"
   ]
  },
  {
   "cell_type": "code",
   "execution_count": 403,
   "metadata": {},
   "outputs": [],
   "source": [
    "num_processes = 2\n",
    "num_obs_process = int(lenght/num_processes)"
   ]
  },
  {
   "cell_type": "code",
   "execution_count": 404,
   "metadata": {},
   "outputs": [],
   "source": [
    "def fac_tuple_process(tup_1, tup_2, work_id, dic):\n",
    "    \n",
    "    list_one_split = list_one[work_id*num_obs_process:(work_id+1)*num_obs_process]\n",
    "    list_two_split = list_two[work_id*num_obs_process:(work_id+1)*num_obs_process]\n",
    "    \n",
    "    list_result = []\n",
    "    for index in range(num_obs_process):\n",
    "        result = np.math.factorial(list_one_split[index]) + np.math.factorial(list_two_split[index])\n",
    "        list_result.append(result)\n",
    "        \n",
    "    dic[work_id] = list_result"
   ]
  },
  {
   "cell_type": "code",
   "execution_count": 405,
   "metadata": {},
   "outputs": [
    {
     "name": "stdout",
     "output_type": "stream",
     "text": [
      "The average time elapsed is 0.12269182649997674\n"
     ]
    }
   ],
   "source": [
    "time_list = []\n",
    "\n",
    "manager = multiprocessing.Manager()\n",
    "return_dict = manager.dict()\n",
    "    \n",
    "for _ in range(10):\n",
    "    start = timer()\n",
    "\n",
    "    p = [multiprocessing.Process(target=fac_tuple_process, args=(list_one, list_two, i, return_dict)) \n",
    "         for i in range(num_processes)]\n",
    "        \n",
    "    for proc in p:\n",
    "        proc.start()\n",
    "    for proc in p:\n",
    "        proc.join()\n",
    "\n",
    "    individuals_fitness = return_dict.values()\n",
    "    #individuals_fitness = [element for sub_list in individuals_fitness for element in sub_list]\n",
    "    \n",
    "    end = timer()\n",
    "    time_list.append(end-start)\n",
    "    \n",
    "print(\"The average time elapsed is \" + str(np.mean(time_list)))\n"
   ]
  },
  {
   "cell_type": "code",
   "execution_count": 406,
   "metadata": {},
   "outputs": [],
   "source": [
    "for proc in p:\n",
    "    proc.terminate()"
   ]
  },
  {
   "cell_type": "markdown",
   "metadata": {},
   "source": [
    "# threads"
   ]
  },
  {
   "cell_type": "code",
   "execution_count": 416,
   "metadata": {},
   "outputs": [],
   "source": [
    "num_processes = 4\n",
    "num_obs_process = int(lenght/num_processes)"
   ]
  },
  {
   "cell_type": "code",
   "execution_count": 417,
   "metadata": {},
   "outputs": [],
   "source": [
    "def fac_tuple_process(tup_1, tup_2, work_id, q):\n",
    "    \n",
    "    list_one_split = list_one[work_id*num_obs_process:(work_id+1)*num_obs_process]\n",
    "    list_two_split = list_two[work_id*num_obs_process:(work_id+1)*num_obs_process]\n",
    "    \n",
    "    list_result = []\n",
    "    for index in range(num_obs_process):\n",
    "        result = np.math.factorial(list_one_split[index]) + np.math.factorial(list_two_split[index])\n",
    "        list_result.append(result)\n",
    "        \n",
    "    q.put(list_result)"
   ]
  },
  {
   "cell_type": "code",
   "execution_count": 430,
   "metadata": {},
   "outputs": [
    {
     "name": "stdout",
     "output_type": "stream",
     "text": [
      "The average time elapsed is 0.0016812800022307783\n"
     ]
    }
   ],
   "source": [
    "time_list = []\n",
    "    \n",
    "for _ in range(1):\n",
    "    q = queue.Queue()\n",
    "    start = timer()\n",
    "\n",
    "    t = [threading.Thread(target=fac_tuple_process, args=(list_one, list_two, i, q)) \n",
    "         for i in range(num_processes)]\n",
    "        \n",
    "    for thread in t:\n",
    "        thread.start()\n",
    "\n",
    "    individuals_fitness = [q.get() for _ in range(num_processes)]\n",
    "    #individuals_fitness = [element for sub_list in individuals_fitness for element in sub_list]\n",
    "    \n",
    "    end = timer()\n",
    "    time_list.append(end-start)\n",
    "    \n",
    "print(\"The average time elapsed is \" + str(np.mean(time_list)))"
   ]
  },
  {
   "cell_type": "code",
   "execution_count": null,
   "metadata": {},
   "outputs": [],
   "source": []
  },
  {
   "cell_type": "code",
   "execution_count": null,
   "metadata": {},
   "outputs": [],
   "source": []
  }
 ],
 "metadata": {
  "kernelspec": {
   "display_name": "Python 3",
   "language": "python",
   "name": "python3"
  },
  "language_info": {
   "codemirror_mode": {
    "name": "ipython",
    "version": 3
   },
   "file_extension": ".py",
   "mimetype": "text/x-python",
   "name": "python",
   "nbconvert_exporter": "python",
   "pygments_lexer": "ipython3",
   "version": "3.7.3"
  }
 },
 "nbformat": 4,
 "nbformat_minor": 2
}
